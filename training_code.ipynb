{
 "cells": [
  {
   "cell_type": "code",
   "execution_count": 10,
   "metadata": {},
   "outputs": [],
   "source": [
    "import pandas as pd\n",
    "import numpy as np\n",
    "import tensorflow as tf"
   ]
  },
  {
   "cell_type": "code",
   "execution_count": 11,
   "metadata": {},
   "outputs": [
    {
     "name": "stdout",
     "output_type": "stream",
     "text": [
      "   label  pixel1  pixel2  pixel3  pixel4  pixel5  pixel6  pixel7  pixel8   \n",
      "0      3     107     118     127     134     139     143     146     150  \\\n",
      "1      6     155     157     156     156     156     157     156     158   \n",
      "2      2     187     188     188     187     187     186     187     188   \n",
      "3      2     211     211     212     212     211     210     211     210   \n",
      "4     13     164     167     170     172     176     179     180     184   \n",
      "\n",
      "   pixel9  ...  pixel775  pixel776  pixel777  pixel778  pixel779  pixel780   \n",
      "0     153  ...       207       207       207       207       206       206  \\\n",
      "1     158  ...        69       149       128        87        94       163   \n",
      "2     187  ...       202       201       200       199       198       199   \n",
      "3     210  ...       235       234       233       231       230       226   \n",
      "4     185  ...        92       105       105       108       133       163   \n",
      "\n",
      "   pixel781  pixel782  pixel783  pixel784  \n",
      "0       206       204       203       202  \n",
      "1       175       103       135       149  \n",
      "2       198       195       194       195  \n",
      "3       225       222       229       163  \n",
      "4       157       163       164       179  \n",
      "\n",
      "[5 rows x 785 columns]\n",
      "(27455, 785)\n"
     ]
    }
   ],
   "source": [
    "train_data = pd.read_csv('./Dataset/sign_mnist_train/sign_mnist_train.csv')\n",
    "print(train_data.head())\n",
    "print(train_data.shape)"
   ]
  },
  {
   "cell_type": "code",
   "execution_count": 12,
   "metadata": {},
   "outputs": [],
   "source": [
    "input_shape = (28, 28, 1)"
   ]
  },
  {
   "cell_type": "code",
   "execution_count": 13,
   "metadata": {},
   "outputs": [
    {
     "data": {
      "image/png": "[encoded data removed]",
      "text/plain": [
       "<Figure size 640x480 with 1 Axes>"
      ]
     },
     "metadata": {},
     "output_type": "display_data"
    }
   ],
   "source": [
    "# display random image\n",
    "\n",
    "import random\n",
    "import matplotlib.pyplot as plt\n",
    "\n",
    "def display_random_image():\n",
    "    random_index = random.randint(0, train_data.shape[0])\n",
    "    image = train_data.iloc[random_index, 1:].values.reshape(input_shape)\n",
    "    plt.imshow(image, cmap='gray')\n",
    "    plt.title(chr(train_data.iloc[random_index, 0] + 65))\n",
    "    plt.axis('off')\n",
    "    plt.show()\n",
    "\n",
    "display_random_image()"
   ]
  },
  {
   "cell_type": "code",
   "execution_count": 14,
   "metadata": {},
   "outputs": [
    {
     "name": "stdout",
     "output_type": "stream",
     "text": [
      "(27455, 784) (27455,)\n"
     ]
    }
   ],
   "source": [
    "y_train = train_data['label']\n",
    "X_train = train_data.drop('label', axis=1)\n",
    "\n",
    "print(X_train.shape, y_train.shape)"
   ]
  },
  {
   "cell_type": "code",
   "execution_count": 15,
   "metadata": {},
   "outputs": [
    {
     "name": "stdout",
     "output_type": "stream",
     "text": [
      "(27455, 28, 28, 1)\n"
     ]
    }
   ],
   "source": [
    "x_train = X_train.values.reshape(-1, 28, 28, 1)\n",
    "print(x_train.shape)"
   ]
  },
  {
   "cell_type": "code",
   "execution_count": 16,
   "metadata": {},
   "outputs": [],
   "source": [
    "model = None"
   ]
  },
  {
   "cell_type": "code",
   "execution_count": 17,
   "metadata": {},
   "outputs": [
    {
     "name": "stdout",
     "output_type": "stream",
     "text": [
      "Model: \"sequential\"\n",
      "_________________________________________________________________\n",
      " Layer (type)                Output Shape              Param #   \n",
      "=================================================================\n",
      " conv2d (Conv2D)             (None, 26, 26, 64)        640       \n",
      "                                                                 \n",
      " batch_normalization (BatchN  (None, 26, 26, 64)       256       \n",
      " ormalization)                                                   \n",
      "                                                                 \n",
      " activation (Activation)     (None, 26, 26, 64)        0         \n",
      "                                                                 \n",
      " max_pooling2d (MaxPooling2D  (None, 13, 13, 64)       0         \n",
      " )                                                               \n",
      "                                                                 \n",
      " dropout (Dropout)           (None, 13, 13, 64)        0         \n",
      "                                                                 \n",
      " conv2d_1 (Conv2D)           (None, 11, 11, 128)       73856     \n",
      "                                                                 \n",
      " batch_normalization_1 (Batc  (None, 11, 11, 128)      512       \n",
      " hNormalization)                                                 \n",
      "                                                                 \n",
      " activation_1 (Activation)   (None, 11, 11, 128)       0         \n",
      "                                                                 \n",
      " max_pooling2d_1 (MaxPooling  (None, 5, 5, 128)        0         \n",
      " 2D)                                                             \n",
      "                                                                 \n",
      " dropout_1 (Dropout)         (None, 5, 5, 128)         0         \n",
      "                                                                 \n",
      " conv2d_2 (Conv2D)           (None, 3, 3, 64)          73792     \n",
      "                                                                 \n",
      " batch_normalization_2 (Batc  (None, 3, 3, 64)         256       \n",
      " hNormalization)                                                 \n",
      "                                                                 \n",
      " activation_2 (Activation)   (None, 3, 3, 64)          0         \n",
      "                                                                 \n",
      " max_pooling2d_2 (MaxPooling  (None, 1, 1, 64)         0         \n",
      " 2D)                                                             \n",
      "                                                                 \n",
      " dropout_2 (Dropout)         (None, 1, 1, 64)          0         \n",
      "                                                                 \n",
      " flatten (Flatten)           (None, 64)                0         \n",
      "                                                                 \n",
      " dense (Dense)               (None, 512)               33280     \n",
      "                                                                 \n",
      " dropout_3 (Dropout)         (None, 512)               0         \n",
      "                                                                 \n",
      " dense_1 (Dense)             (None, 26)                13338     \n",
      "                                                                 \n",
      "=================================================================\n",
      "Total params: 195,930\n",
      "Trainable params: 195,418\n",
      "Non-trainable params: 512\n",
      "_________________________________________________________________\n"
     ]
    }
   ],
   "source": [
    "model = tf.keras.models.Sequential([\n",
    "    tf.keras.layers.Conv2D(64, (3, 3), input_shape=input_shape),\n",
    "    tf.keras.layers.BatchNormalization(),\n",
    "    tf.keras.layers.Activation('relu'),\n",
    "    tf.keras.layers.MaxPooling2D(2, 2),\n",
    "    tf.keras.layers.Dropout(0.2),\n",
    "    \n",
    "    tf.keras.layers.Conv2D(128, (3, 3)),\n",
    "    tf.keras.layers.BatchNormalization(),\n",
    "    tf.keras.layers.Activation('relu'),\n",
    "    tf.keras.layers.MaxPooling2D(2, 2),\n",
    "    tf.keras.layers.Dropout(0.2),\n",
    "\n",
    "    tf.keras.layers.Conv2D(64, (3, 3)),\n",
    "    tf.keras.layers.BatchNormalization(),\n",
    "    tf.keras.layers.Activation('relu'),\n",
    "    tf.keras.layers.MaxPooling2D(2, 2),\n",
    "    tf.keras.layers.Dropout(0.2),\n",
    "    \n",
    "    tf.keras.layers.Flatten(),\n",
    "    tf.keras.layers.Dense(512, activation='relu'),\n",
    "    tf.keras.layers.Dropout(0.5),\n",
    "    tf.keras.layers.Dense(26, activation='softmax')\n",
    "])\n",
    "\n",
    "model.compile(loss='sparse_categorical_crossentropy', optimizer='adam', metrics=['accuracy'])\n",
    "\n",
    "model.summary()\n"
   ]
  },
  {
   "cell_type": "code",
   "execution_count": 18,
   "metadata": {},
   "outputs": [
    {
     "name": "stdout",
     "output_type": "stream",
     "text": [
      "Epoch 1/5\n",
      "1373/1373 [==============================] - 57s 40ms/step - loss: 0.8674 - accuracy: 0.7183 - val_loss: 0.1438 - val_accuracy: 0.9625\n",
      "Epoch 2/5\n",
      "1373/1373 [==============================] - 60s 44ms/step - loss: 0.1898 - accuracy: 0.9379 - val_loss: 0.0781 - val_accuracy: 0.9774\n",
      "Epoch 3/5\n",
      "1373/1373 [==============================] - 57s 42ms/step - loss: 0.1124 - accuracy: 0.9653 - val_loss: 0.1345 - val_accuracy: 0.9536\n",
      "Epoch 4/5\n",
      "1373/1373 [==============================] - 54s 39ms/step - loss: 0.0864 - accuracy: 0.9704 - val_loss: 0.0256 - val_accuracy: 0.9940\n",
      "Epoch 5/5\n",
      "1373/1373 [==============================] - 56s 41ms/step - loss: 0.0706 - accuracy: 0.9775 - val_loss: 0.0115 - val_accuracy: 0.9984\n"
     ]
    }
   ],
   "source": [
    "history = model.fit(x_train, y_train, epochs=5, validation_split=0.2, batch_size=16)"
   ]
  },
  {
   "cell_type": "code",
   "execution_count": 19,
   "metadata": {},
   "outputs": [],
   "source": [
    "import joblib\n",
    "import pickle\n",
    "# save model\n",
    "joblib.dump(model, 'model_joblib.pkl')\n",
    "\n",
    "with open('model.pkl', 'wb') as f:\n",
    "    pickle.dump(model, f)"
   ]
  },
  {
   "cell_type": "code",
   "execution_count": 20,
   "metadata": {},
   "outputs": [
    {
     "data": {
      "text/plain": [
       "Text(0, 0.5, 'Accuracy')"
      ]
     },
     "execution_count": 20,
     "metadata": {},
     "output_type": "execute_result"
    },
    {
     "data": {
      "image/png": "[encoded data removed]",
      "text/plain": [
       "<Figure size 640x480 with 1 Axes>"
      ]
     },
     "metadata": {},
     "output_type": "display_data"
    }
   ],
   "source": [
    "# plot the training and validation accuracy\n",
    "\n",
    "plt.plot(history.history['accuracy'])\n",
    "plt.plot(history.history['val_accuracy'])\n",
    "plt.title('Model Accuracy')\n",
    "plt.ylabel('Accuracy')"
   ]
  },
  {
   "cell_type": "code",
   "execution_count": 21,
   "metadata": {},
   "outputs": [],
   "source": [
    "test_data = pd.read_csv('./Dataset/sign_mnist_test/sign_mnist_test.csv')\n",
    "\n",
    "y_test = test_data['label']\n",
    "X_test = test_data.drop('label', axis=1)\n",
    "\n",
    "x_test = X_test.values.reshape(-1, 28, 28, 1)"
   ]
  },
  {
   "cell_type": "code",
   "execution_count": 22,
   "metadata": {},
   "outputs": [
    {
     "name": "stdout",
     "output_type": "stream",
     "text": [
      "225/225 [==============================] - 5s 22ms/step - loss: 0.2204 - accuracy: 0.9307\n",
      "Test loss: 0.22038564085960388, Test accuracy: 0.9307027459144592\n"
     ]
    }
   ],
   "source": [
    "test_loss, test_accuracy = model.evaluate(x_test, y_test)\n",
    "\n",
    "print(f'Test loss: {test_loss}, Test accuracy: {test_accuracy}')"
   ]
  },
  {
   "cell_type": "code",
   "execution_count": 23,
   "metadata": {},
   "outputs": [
    {
     "name": "stdout",
     "output_type": "stream",
     "text": [
      "(27455, 28, 28, 1)\n"
     ]
    }
   ],
   "source": [
    "x_test = train_data\n",
    "x_test = x_test.drop('label', axis=1)\n",
    "\n",
    "x_test = x_test.values.reshape(-1, 28, 28, 1)\n",
    "\n",
    "print(x_test.shape)"
   ]
  },
  {
   "cell_type": "code",
   "execution_count": 24,
   "metadata": {},
   "outputs": [
    {
     "name": "stdout",
     "output_type": "stream",
     "text": [
      "G\n",
      "F\n",
      "K\n",
      "A\n",
      "D\n",
      "V\n",
      "K\n",
      "O\n",
      "D\n",
      "H\n"
     ]
    }
   ],
   "source": [
    "import os\n",
    "import matplotlib.pyplot as plt\n",
    "\n",
    "def save_images():\n",
    "    for i in range(10):\n",
    "        img = x_test[i]  # Assuming x_test contains the images\n",
    "        label = chr(test_data.iloc[i, 0] + 65)  # Convert label to alphabet\n",
    "        print(label)\n",
    "\n",
    "        image_path = os.path.join('./images', f'{label}.jpg')\n",
    "        os.makedirs(os.path.dirname(image_path), exist_ok=True)\n",
    "        \n",
    "        plt.imshow(img, cmap='gray')  # Assuming the images are grayscale\n",
    "        plt.axis('off')  # Hide axes\n",
    "        plt.savefig(image_path, bbox_inches='tight', pad_inches=0)  # Save with original resolution and channels\n",
    "        # plt.show()\n",
    "        plt.close()  # Close the figure to release memory\n",
    "\n",
    "save_images()\n"
   ]
  },
  {
   "cell_type": "code",
   "execution_count": 25,
   "metadata": {},
   "outputs": [
    {
     "name": "stdout",
     "output_type": "stream",
     "text": [
      "G\n",
      "F\n",
      "K\n",
      "A\n",
      "D\n",
      "V\n",
      "K\n",
      "O\n",
      "D\n",
      "H\n"
     ]
    }
   ],
   "source": [
    "# # predict funtion\n",
    "\n",
    "# import joblib\n",
    "# import numpy as np\n",
    "# from matplotlib import pyplot as plt\n",
    "# def predict_image(image_path):\n",
    "#     model = joblib.load('model.pkl')\n",
    "#     image = plt.imread(image_path)\n",
    "#     image = np.array(image)\n",
    "#     print(image.shape)\n",
    "#     image = image.reshape(-1, 28, 28, 1)\n",
    "#     prediction = model.predict(image)\n",
    "#     predicted_label = chr(np.argmax(prediction) + 65)\n",
    "#     print(predicted_label)\n",
    "#     return predicted_label\n",
    "\n",
    "\n",
    "import os\n",
    "import matplotlib.pyplot as plt\n",
    "import numpy as np\n",
    "from PIL import Image\n",
    "\n",
    "def save_images():\n",
    "    for i in range(10):\n",
    "        img = x_test[i].reshape(28, 28)  # Reshape to 28x28\n",
    "        label = chr(test_data.iloc[i, 0] + 65)  # Convert label to alphabet\n",
    "        print(label)\n",
    "\n",
    "        image_path = os.path.join('./images', f'{label}.jpg')\n",
    "        os.makedirs(os.path.dirname(image_path), exist_ok=True)\n",
    "        \n",
    "        # Convert to PIL Image and resize to 28x28\n",
    "        img = Image.fromarray(img.astype('uint8'), mode='L').resize((28, 28))\n",
    "        img.save(image_path)  # Save the image\n",
    "        # Convert back to numpy array\n",
    "        img = np.array(img)\n",
    "        \n",
    "        plt.imshow(img, cmap='gray')  # Assuming the images are grayscale\n",
    "        plt.axis('off')  # Hide axes\n",
    "        # plt.savefig(image_path, bbox_inches='tight', pad_inches=0)  # Save with fixed resolution\n",
    "        plt.close()  # Close the figure to release memory\n",
    "\n",
    "save_images()\n"
   ]
  },
  {
   "cell_type": "code",
   "execution_count": 26,
   "metadata": {},
   "outputs": [],
   "source": [
    "# ! python --version"
   ]
  },
  {
   "cell_type": "code",
   "execution_count": 27,
   "metadata": {},
   "outputs": [],
   "source": [
    "# ! pip install tensorflow keras"
   ]
  },
  {
   "cell_type": "code",
   "execution_count": 28,
   "metadata": {},
   "outputs": [],
   "source": [
    "import joblib\n",
    "import numpy as np\n",
    "from matplotlib import pyplot as plt\n",
    "import pickle\n",
    "def predict_image(image_path):\n",
    "    # model = joblib.load('model.pkl')\n",
    "    with open('model.pkl', 'rb') as file:\n",
    "        model = pickle.load(file)\n",
    "    image = plt.imread(image_path)\n",
    "    image = np.array(image)\n",
    "    print(image.shape)\n",
    "    image = image.reshape(-1, 28, 28, 1)\n",
    "    prediction = model.predict(image)\n",
    "    predicted_label = chr(np.argmax(prediction) + 65)\n",
    "    print(predicted_label)\n",
    "    return predicted_label"
   ]
  },
  {
   "cell_type": "code",
   "execution_count": 29,
   "metadata": {},
   "outputs": [
    {
     "name": "stdout",
     "output_type": "stream",
     "text": [
      "(28, 28)\n",
      "1/1 [==============================] - 0s 177ms/step\n",
      "C\n"
     ]
    },
    {
     "data": {
      "text/plain": [
       "'C'"
      ]
     },
     "execution_count": 29,
     "metadata": {},
     "output_type": "execute_result"
    }
   ],
   "source": [
    "predict_image('./images/A.jpg')"
   ]
  },
  {
   "cell_type": "code",
   "execution_count": 30,
   "metadata": {},
   "outputs": [
    {
     "name": "stdout",
     "output_type": "stream",
     "text": [
      "Requirement already satisfied: flask in c:\\python312\\lib\\site-packages (3.0.2)\n",
      "Requirement already satisfied: Werkzeug>=3.0.0 in c:\\python312\\lib\\site-packages (from flask) (3.0.1)\n",
      "Requirement already satisfied: Jinja2>=3.1.2 in c:\\python312\\lib\\site-packages (from flask) (3.1.3)\n",
      "Requirement already satisfied: itsdangerous>=2.1.2 in c:\\python312\\lib\\site-packages (from flask) (2.1.2)\n",
      "Requirement already satisfied: click>=8.1.3 in c:\\python312\\lib\\site-packages (from flask) (8.1.7)\n",
      "Requirement already satisfied: blinker>=1.6.2 in c:\\python312\\lib\\site-packages (from flask) (1.7.0)\n",
      "Requirement already satisfied: colorama in c:\\python312\\lib\\site-packages (from click>=8.1.3->flask) (0.4.6)\n",
      "Requirement already satisfied: MarkupSafe>=2.0 in c:\\python312\\lib\\site-packages (from Jinja2>=3.1.2->flask) (2.1.5)\n"
     ]
    },
    {
     "name": "stderr",
     "output_type": "stream",
     "text": [
      "\n",
      "[notice] A new release of pip is available: 23.2.1 -> 24.0\n",
      "[notice] To update, run: C:\\Python312\\python.exe -m pip install --upgrade pip\n"
     ]
    }
   ],
   "source": [
    "# ! pip install flask"
   ]
  },
  {
   "cell_type": "code",
   "execution_count": null,
   "metadata": {},
   "outputs": [],
   "source": []
  }
 ],
 "metadata": {
  "kernelspec": {
   "display_name": "Python 3",
   "language": "python",
   "name": "python3"
  },
  "language_info": {
   "codemirror_mode": {
    "name": "ipython",
    "version": 3
   },
   "file_extension": ".py",
   "mimetype": "text/x-python",
   "name": "python",
   "nbconvert_exporter": "python",
   "pygments_lexer": "ipython3",
   "version": "3.11.3"
  }
 },
 "nbformat": 4,
 "nbformat_minor": 2
}
